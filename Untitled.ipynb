{
 "cells": [
  {
   "cell_type": "code",
   "execution_count": 9,
   "metadata": {},
   "outputs": [],
   "source": [
    "def eliminar_contacto(nombre):\n",
    "    try:\n",
    "        with open('./agenda3.txt','r',encoding='utf-8') as agenda:\n",
    "            directorio = agenda.readlines()\n",
    "            dicc_directorio = {}\n",
    "            for contacto in directorio:\n",
    "                datos= contacto.split(',')\n",
    "                dicc_directorio[datos[0]] = datos[1]\n",
    "            if nombre in dicc_directorio.keys():\n",
    "                del dicc_directorio[nombre]\n",
    "        with open('./agenda3.txt','w', encoding= 'utf-8') as agenda:\n",
    "            for nombre, telefono in dicc_directorio.items():\n",
    "                agenda.write(f'{nombre},{telefono}')\n",
    "    except:\n",
    "        print(\"hay un error en elimiar contacto\")\n",
    "eliminar_contacto('caro')"
   ]
  },
  {
   "cell_type": "code",
   "execution_count": 10,
   "metadata": {},
   "outputs": [],
   "source": [
    "eliminar_contacto('caro')"
   ]
  },
  {
   "cell_type": "code",
   "execution_count": null,
   "metadata": {},
   "outputs": [],
   "source": [
    "## ESTA FUNCION FUNCIONA BIEN\n",
    "def consulta_telefono(nombre):\n",
    "    try:\n",
    "        with open('./agenda2.txt','r', encoding= 'utf-8') as agenda:\n",
    "            cuenta = 0\n",
    "            for linea in agenda.readlines():\n",
    "                linea = linea.split(',')\n",
    "                if linea[0] == nombre:\n",
    "                    print(f'El telefono de {nombre} es: {linea[1]}')\n",
    "                    cuenta += 1\n",
    "            if cuenta == 0:\n",
    "                print(\"Ese contacto no existe\")\n",
    "    except:\n",
    "        print(\"hay un error en consulta telefono\")"
   ]
  },
  {
   "cell_type": "code",
   "execution_count": null,
   "metadata": {},
   "outputs": [],
   "source": [
    "# Esta funcion crea bien el contacto, pero repite si el contacto existe\n",
    "def crear_contacto(name,cel):\n",
    "    try:\n",
    "        with open('./agenda2.txt', 'a' , encoding = 'utf-8') as agenda:\n",
    "            agenda.write(f'\\n{name},{cel}')\n",
    "    except:\n",
    "        print(\"hay un errror en crear contacto\")"
   ]
  },
  {
   "cell_type": "code",
   "execution_count": null,
   "metadata": {},
   "outputs": [],
   "source": [
    "# Parce funcionar bien\n",
    "def eliminar_contacto(nombre):\n",
    "    try:\n",
    "        with open('./agenda2.txt','r',encoding='utf-8') as agenda:\n",
    "            directorio = agenda.readlines()\n",
    "            dicc_directorio = {}\n",
    "            for contacto in directorio:\n",
    "                if contacto == '\\n':\n",
    "                    continue\n",
    "                else:\n",
    "                    datos= contacto.split(',')\n",
    "                    dicc_directorio[datos[0]] = datos[1]\n",
    "                    print(dicc_directorio)\n",
    "            if nombre in dicc_directorio.keys():\n",
    "                del dicc_directorio[nombre]\n",
    "        with open('./agenda2.txt','w', encoding= 'utf-8') as agenda:\n",
    "            for nombre, telefono in dicc_directorio.items():\n",
    "                agenda.write(f'{nombre},{telefono}')\n",
    "    except:\n",
    "        print(\"hay un error en elimiar contacto\")"
   ]
  }
 ],
 "metadata": {
  "kernelspec": {
   "display_name": "Python 3",
   "language": "python",
   "name": "python3"
  },
  "language_info": {
   "codemirror_mode": {
    "name": "ipython",
    "version": 3
   },
   "file_extension": ".py",
   "mimetype": "text/x-python",
   "name": "python",
   "nbconvert_exporter": "python",
   "pygments_lexer": "ipython3",
   "version": "3.8.5"
  }
 },
 "nbformat": 4,
 "nbformat_minor": 4
}
